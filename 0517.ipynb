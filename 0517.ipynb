{
  "nbformat": 4,
  "nbformat_minor": 0,
  "metadata": {
    "colab": {
      "provenance": [],
      "authorship_tag": "ABX9TyMON3qWXJ3BoUJTmEmyETrt",
      "include_colab_link": true
    },
    "kernelspec": {
      "name": "python3",
      "display_name": "Python 3"
    },
    "language_info": {
      "name": "python"
    }
  },
  "cells": [
    {
      "cell_type": "markdown",
      "metadata": {
        "id": "view-in-github",
        "colab_type": "text"
      },
      "source": [
        "<a href=\"https://colab.research.google.com/github/ismehi14/Introduction-to-Computers/blob/main/0517.ipynb\" target=\"_parent\"><img src=\"https://colab.research.google.com/assets/colab-badge.svg\" alt=\"Open In Colab\"/></a>"
      ]
    },
    {
      "cell_type": "code",
      "execution_count": 2,
      "metadata": {
        "colab": {
          "base_uri": "https://localhost:8080/"
        },
        "id": "bOrtza5zUfxN",
        "outputId": "79ffbd58-5311-4f00-87d4-3f9954dcd12b"
      },
      "outputs": [
        {
          "output_type": "stream",
          "name": "stdout",
          "text": [
            "35.9\n",
            "體溫正常!\n"
          ]
        }
      ],
      "source": [
        "t=float(input())\n",
        "if (t >= 37.5):\n",
        "  print(\"體溫過高!\")\n",
        "elif (t <= 37.4 and t >= 37):\n",
        "  print(\"體溫略高!\")\n",
        "elif (t <= 36.9 and t >= 34):\n",
        "  print(\"體溫正常!\")\n",
        "else:\n",
        "  print(\"體溫異常，請重新檢測!\")"
      ]
    },
    {
      "cell_type": "code",
      "source": [
        "score=int(input(\"請輸入成績\"))\n",
        "if (score >= 90):\n",
        "  print('A')\n",
        "elif (score >= 80 and score <= 89):\n",
        "  print('B')\n",
        "elif (score >= 70 and score <= 79):\n",
        "  print('C')\n",
        "elif (score >= 60 and score <= 69):\n",
        "  print('D')\n",
        "else:\n",
        "  print('F')"
      ],
      "metadata": {
        "colab": {
          "base_uri": "https://localhost:8080/"
        },
        "id": "F4ftXDQcWUuN",
        "outputId": "617db6fb-c6fc-4d6e-bfea-a5299453cf43"
      },
      "execution_count": 3,
      "outputs": [
        {
          "output_type": "stream",
          "name": "stdout",
          "text": [
            "請輸入成績75\n",
            "C\n"
          ]
        }
      ]
    },
    {
      "cell_type": "code",
      "source": [
        "f=int(input())\n",
        "if (f >= 1 and f <= 12):\n",
        "  if (f == 3 or f == 4 or f == 5):\n",
        "    print(\"{}月是春天!\".format(f))\n",
        "  elif (f == 6 or f == 7 or f == 8):\n",
        "    print(\"{}月是夏天!\".format(f))\n",
        "  elif (f == 9 or f == 10 or f == 11):\n",
        "    print(\"{}月是秋天!\".format(f))\n",
        "  else:\n",
        "    print(\"{}月是冬天!\".format(f))\n",
        "else:\n",
        "  print(\"月份不在範圍內!\")"
      ],
      "metadata": {
        "colab": {
          "base_uri": "https://localhost:8080/"
        },
        "id": "Q8Dzi4IJXDi0",
        "outputId": "04caa2d7-22d4-4bd5-8290-976afbd29a21"
      },
      "execution_count": 4,
      "outputs": [
        {
          "output_type": "stream",
          "name": "stdout",
          "text": [
            "12\n",
            "12月是冬天!\n"
          ]
        }
      ]
    },
    {
      "cell_type": "code",
      "source": [
        "t=int(input(\"請輸入今年收入淨額:\"))\n",
        "if (t >= 2000000):\n",
        "  tax=t*0.3\n",
        "  print(\"付稅金額:{}元\".format(tax))\n",
        "elif (t >= 1000000):\n",
        "  tax=t*0.21\n",
        "  print(\"付稅金額:{}元\".format(tax))\n",
        "elif (t >= 600000):\n",
        "  tax=t*0.13\n",
        "  print(\"付稅金額:{}元\".format(tax))\n",
        "elif (t >= 300000):\n",
        "  tax=t*0.06\n",
        "  print(\"付稅金額:{}元\".format(tax))\n",
        "else:\n",
        "  tax=0\n",
        "  print(\"付稅金額:{}元\".format(tax))"
      ],
      "metadata": {
        "colab": {
          "base_uri": "https://localhost:8080/"
        },
        "id": "n10ig6iSYb5m",
        "outputId": "cf7361bf-affa-4b45-e45e-b4fc5f4be2e7"
      },
      "execution_count": 6,
      "outputs": [
        {
          "output_type": "stream",
          "name": "stdout",
          "text": [
            "請輸入今年收入淨額:100000\n",
            "付稅金額:0元\n"
          ]
        }
      ]
    }
  ]
}