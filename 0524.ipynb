{
  "nbformat": 4,
  "nbformat_minor": 0,
  "metadata": {
    "colab": {
      "provenance": [],
      "authorship_tag": "ABX9TyOYtBfhchB3oDdMh1mYUFdy",
      "include_colab_link": true
    },
    "kernelspec": {
      "name": "python3",
      "display_name": "Python 3"
    },
    "language_info": {
      "name": "python"
    }
  },
  "cells": [
    {
      "cell_type": "markdown",
      "metadata": {
        "id": "view-in-github",
        "colab_type": "text"
      },
      "source": [
        "<a href=\"https://colab.research.google.com/github/ismehi14/Introduction-to-Computers/blob/main/0524.ipynb\" target=\"_parent\"><img src=\"https://colab.research.google.com/assets/colab-badge.svg\" alt=\"Open In Colab\"/></a>"
      ]
    },
    {
      "cell_type": "code",
      "execution_count": 1,
      "metadata": {
        "colab": {
          "base_uri": "https://localhost:8080/"
        },
        "id": "Mo5q7_jf-R26",
        "outputId": "319123f5-f0f5-4c61-d5ed-87583871e8c4"
      },
      "outputs": [
        {
          "output_type": "stream",
          "name": "stdout",
          "text": [
            "[0, 1, 2, 3, 4, 5, 6, 7, 8]\n",
            "[1, 2, 3, 4, 5, 6, 7, 8, 9]\n",
            "[1, 3, 5, 7, 9]\n",
            "[10, 8, 6, 4, 2]\n"
          ]
        }
      ],
      "source": [
        "a=range(0,9)\n",
        "print(list(a))\n",
        "b=range(1,10)\n",
        "print(list(b))\n",
        "c=range(1,10,2)\n",
        "print(list(c))\n",
        "d=range(10,0,-2)\n",
        "print(list(d))"
      ]
    },
    {
      "cell_type": "code",
      "source": [
        "n=int(input(\"請輸入一個正整數\"))\n",
        "e=range(1,n+1)\n",
        "print(list(e))"
      ],
      "metadata": {
        "colab": {
          "base_uri": "https://localhost:8080/"
        },
        "id": "9eCgAiZq-nAr",
        "outputId": "6590e820-199a-4fac-b8bf-73ba0b084b92"
      },
      "execution_count": 2,
      "outputs": [
        {
          "output_type": "stream",
          "name": "stdout",
          "text": [
            "請輸入一個正整數12\n",
            "[1, 2, 3, 4, 5, 6, 7, 8, 9, 10, 11, 12]\n"
          ]
        }
      ]
    },
    {
      "cell_type": "code",
      "source": [
        "n=int(input(\"請輸入一個正整數:\"))\n",
        "sum=0\n",
        "for n in range(1,n+1):\n",
        "  sum=sum+n\n",
        "print(\"1到 %d 的整數合為 %d\" % (n,sum))"
      ],
      "metadata": {
        "colab": {
          "base_uri": "https://localhost:8080/"
        },
        "id": "B9ALubVS-nB4",
        "outputId": "a2c51631-05ab-464c-9bca-87cd9381aea6"
      },
      "execution_count": 3,
      "outputs": [
        {
          "output_type": "stream",
          "name": "stdout",
          "text": [
            "請輸入一個正整數:50\n",
            "1到 50 的整數合為 1275\n"
          ]
        }
      ]
    },
    {
      "cell_type": "code",
      "source": [
        "n=int(input(\"請輸入一個正整數:\"))\n",
        "sum=0\n",
        "for i in range(1,n+1,1):\n",
        "  sum=sum+n\n",
        "  print('1到',i,'的整數合為: ',sum)"
      ],
      "metadata": {
        "colab": {
          "base_uri": "https://localhost:8080/"
        },
        "id": "x20g7pZT-xPS",
        "outputId": "c61228c2-de77-431f-8fcd-45532553007d"
      },
      "execution_count": 5,
      "outputs": [
        {
          "output_type": "stream",
          "name": "stdout",
          "text": [
            "請輸入一個正整數:10\n",
            "1到 1 的整數合為:  10\n",
            "1到 2 的整數合為:  20\n",
            "1到 3 的整數合為:  30\n",
            "1到 4 的整數合為:  40\n",
            "1到 5 的整數合為:  50\n",
            "1到 6 的整數合為:  60\n",
            "1到 7 的整數合為:  70\n",
            "1到 8 的整數合為:  80\n",
            "1到 9 的整數合為:  90\n",
            "1到 10 的整數合為:  100\n"
          ]
        }
      ]
    }
  ]
}